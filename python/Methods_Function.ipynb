{
 "cells": [
  {
   "cell_type": "markdown",
   "metadata": {},
   "source": [
    "# Methods\n",
    "\n",
    "- Functions which are by default in Python \n",
    "\n",
    "- Functions which are inside objects are knows as methods."
   ]
  },
  {
   "cell_type": "markdown",
   "metadata": {},
   "source": [
    "# Functions \n",
    "\n",
    "Functions are the resuale coding block, which are user defined for making sure the code repeatablity is encontered and reduced"
   ]
  },
  {
   "cell_type": "code",
   "execution_count": 1,
   "metadata": {},
   "outputs": [
    {
     "data": {
      "text/plain": [
       "4"
      ]
     },
     "execution_count": 1,
     "metadata": {},
     "output_type": "execute_result"
    }
   ],
   "source": [
    "lst = [1,2,3,4,5,6,7]\n",
    "lst.index(5)"
   ]
  },
  {
   "cell_type": "markdown",
   "metadata": {},
   "source": [
    "- how to write a function?\n",
    "- what all things we can do with functions?"
   ]
  },
  {
   "cell_type": "code",
   "execution_count": 7,
   "metadata": {},
   "outputs": [
    {
     "name": "stdout",
     "output_type": "stream",
     "text": [
      "hi a\n",
      "hi b\n",
      "hi c\n",
      "hi d\n"
     ]
    }
   ],
   "source": [
    "print(\"hi a\")\n",
    "print(\"hi b\")\n",
    "print(\"hi c\")\n",
    "print(\"hi d\")"
   ]
  },
  {
   "cell_type": "markdown",
   "metadata": {},
   "source": [
    "- In the above coding we should greet each and every people,its a difficult to type print in every line so to avoid this we use def()"
   ]
  },
  {
   "cell_type": "code",
   "execution_count": 2,
   "metadata": {},
   "outputs": [],
   "source": [
    "#def a code block inside function in python\n",
    "def csk(kj):\n",
    "    print(\"Hi\",kj)"
   ]
  },
  {
   "cell_type": "code",
   "execution_count": 3,
   "metadata": {},
   "outputs": [
    {
     "name": "stdout",
     "output_type": "stream",
     "text": [
      "Hi a\n"
     ]
    }
   ],
   "source": [
    "csk(\"a\")"
   ]
  },
  {
   "cell_type": "code",
   "execution_count": 4,
   "metadata": {},
   "outputs": [
    {
     "name": "stdout",
     "output_type": "stream",
     "text": [
      "Hi a\n",
      "Hi b\n",
      "Hi c\n",
      "Hi d\n"
     ]
    }
   ],
   "source": [
    "a = [\"a\",\"b\",\"c\",\"d\"]\n",
    "for i in a:\n",
    "    csk(i)"
   ]
  },
  {
   "cell_type": "markdown",
   "metadata": {},
   "source": [
    "# function syntax\n",
    "\n",
    "def function_name(argument_to_pass_the_function):\n",
    "   \n",
    "   CodeBlock"
   ]
  },
  {
   "cell_type": "code",
   "execution_count": 5,
   "metadata": {},
   "outputs": [],
   "source": [
    "# Where we use Return Keyword ???\n",
    "\n",
    "\n",
    "# when ever you want to process some kind of data in function \n",
    "# and return that final value from your function that time \n",
    "# we use Return keyword"
   ]
  },
  {
   "cell_type": "code",
   "execution_count": 6,
   "metadata": {},
   "outputs": [],
   "source": [
    "# function to return if my number is odd or even\n",
    "\n",
    "def oe(num):\n",
    "    if num%2 == 0:\n",
    "        a = str(num) + \" is even\"\n",
    "        return a\n",
    "    else:\n",
    "        a = str(num) + \"is odd\"\n",
    "        return a"
   ]
  },
  {
   "cell_type": "code",
   "execution_count": 7,
   "metadata": {},
   "outputs": [
    {
     "name": "stdout",
     "output_type": "stream",
     "text": [
      "1is odd\n",
      "2 is even\n",
      "3is odd\n",
      "4 is even\n",
      "5is odd\n",
      "6 is even\n",
      "7is odd\n",
      "8 is even\n",
      "9is odd\n"
     ]
    }
   ],
   "source": [
    "for item in range(1,10):\n",
    "    print(oe(item))"
   ]
  },
  {
   "cell_type": "code",
   "execution_count": null,
   "metadata": {},
   "outputs": [],
   "source": []
  }
 ],
 "metadata": {
  "kernelspec": {
   "display_name": "Python 3",
   "language": "python",
   "name": "python3"
  },
  "language_info": {
   "codemirror_mode": {
    "name": "ipython",
    "version": 3
   },
   "file_extension": ".py",
   "mimetype": "text/x-python",
   "name": "python",
   "nbconvert_exporter": "python",
   "pygments_lexer": "ipython3",
   "version": "3.8.3"
  }
 },
 "nbformat": 4,
 "nbformat_minor": 4
}
