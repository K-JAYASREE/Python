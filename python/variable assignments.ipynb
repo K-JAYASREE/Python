{
 "cells": [
  {
   "cell_type": "markdown",
   "metadata": {},
   "source": [
    "# Variable Name\n",
    "\n",
    "As humans have name computer value should also have a name like\n",
    "a=12 in the function we can call a instead 12\n",
    "\n",
    "The varaiable should not start with a number, space, upper case or any other special charatcer like &$# etc.\n",
    "\n",
    "# Rules:\n",
    "  like humans have registered their name in a goverment python also registered their variable name in (PEPs)-Index of Python Enhancement Proposals this is done by guido van rossum(founder of python)"
   ]
  },
  {
   "cell_type": "markdown",
   "metadata": {},
   "source": [
    "# Variable assignment"
   ]
  },
  {
   "cell_type": "code",
   "execution_count": 10,
   "metadata": {},
   "outputs": [],
   "source": [
    "jaya = 30 ##here jaya is a variable##"
   ]
  },
  {
   "cell_type": "code",
   "execution_count": 11,
   "metadata": {},
   "outputs": [
    {
     "data": {
      "text/plain": [
       "30"
      ]
     },
     "execution_count": 11,
     "metadata": {},
     "output_type": "execute_result"
    }
   ],
   "source": [
    "jaya"
   ]
  },
  {
   "cell_type": "code",
   "execution_count": 12,
   "metadata": {},
   "outputs": [],
   "source": [
    "address='sidco nagar,villivakkam,chennai-49'"
   ]
  },
  {
   "cell_type": "code",
   "execution_count": 13,
   "metadata": {},
   "outputs": [
    {
     "data": {
      "text/plain": [
       "'sidco nagar,villivakkam,chennai-49'"
      ]
     },
     "execution_count": 13,
     "metadata": {},
     "output_type": "execute_result"
    }
   ],
   "source": [
    "address"
   ]
  },
  {
   "cell_type": "markdown",
   "metadata": {},
   "source": [
    "# python is a dynamical type language"
   ]
  },
  {
   "cell_type": "markdown",
   "metadata": {},
   "source": [
    "# statically type-data type needed \n",
    "\n",
    "int abc=10\n",
    "\n",
    "float ja =30.0\n",
    "\n",
    "eg.java,c, c++"
   ]
  },
  {
   "cell_type": "markdown",
   "metadata": {},
   "source": [
    "# Dynamically typed- no need of data type\n",
    "\n",
    "\n",
    "abc=30\n",
    "\n",
    "def=40.0\n",
    "\n",
    "ja='jaya'\n",
    "\n",
    "eg.python"
   ]
  }
 ],
 "metadata": {
  "kernelspec": {
   "display_name": "Python 3",
   "language": "python",
   "name": "python3"
  },
  "language_info": {
   "codemirror_mode": {
    "name": "ipython",
    "version": 3
   },
   "file_extension": ".py",
   "mimetype": "text/x-python",
   "name": "python",
   "nbconvert_exporter": "python",
   "pygments_lexer": "ipython3",
   "version": "3.8.3"
  },
  "widgets": {
   "application/vnd.jupyter.widget-state+json": {
    "state": {},
    "version_major": 2,
    "version_minor": 0
   }
  }
 },
 "nbformat": 4,
 "nbformat_minor": 4
}
