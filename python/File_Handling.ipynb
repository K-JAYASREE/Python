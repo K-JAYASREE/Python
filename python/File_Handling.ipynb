{
 "cells": [
  {
   "cell_type": "markdown",
   "metadata": {},
   "source": [
    "# File handling\n",
    "\n",
    "In computer/ smart phones all the bytes are stored in containers,\n",
    "\n",
    "which can be accessed any point of time whenever we need them\n",
    "\n",
    "and yes we can store multiple containers together in a bundles.\n",
    "\n",
    "now what are they ??\n",
    "\n",
    "1.Containers are files ?\n",
    "\n",
    "2.Bundles are Folders ?"
   ]
  },
  {
   "cell_type": "markdown",
   "metadata": {},
   "source": [
    "# What all things we can do with File Handling?\n",
    "\n",
    "- read\n",
    "- write\n",
    "- create new file\n",
    "- modify the file\n",
    "\n",
    "Now lets go ahead and learn how to handle files in Python ...."
   ]
  },
  {
   "cell_type": "code",
   "execution_count": 10,
   "metadata": {},
   "outputs": [],
   "source": [
    "# create a file?\n",
    "\n",
    "file = open(\"jaya.txt\",\"w\")\n",
    "file.write(\"vankkam, hindi thriyathu po da!!\")\n",
    "file.close()"
   ]
  },
  {
   "cell_type": "code",
   "execution_count": 11,
   "metadata": {},
   "outputs": [
    {
     "name": "stdout",
     "output_type": "stream",
     "text": [
      "vankkam, hindi thriyathu po da!!\n"
     ]
    }
   ],
   "source": [
    "# reading a file from the computer\n",
    "file = open(\"jaya.txt\",\"r\")\n",
    "stxt = file.read()\n",
    "print(stxt)\n",
    "file.close()"
   ]
  },
  {
   "cell_type": "code",
   "execution_count": 14,
   "metadata": {},
   "outputs": [
    {
     "name": "stdout",
     "output_type": "stream",
     "text": [
      "vankkam, hindi thriyathu po da!!\n",
      "csk on fire\n"
     ]
    }
   ],
   "source": [
    "#a = append,r = read,w = write,r+ = read and write\n",
    "\n",
    "file = open(\"jaya.txt\",\"r+\")\n",
    "print(file.read())\n",
    "file.write(\"\\n\\ncsk on fire\")\n",
    "file.close()\n"
   ]
  },
  {
   "cell_type": "markdown",
   "metadata": {},
   "source": [
    "# with Function in File Handling"
   ]
  },
  {
   "cell_type": "code",
   "execution_count": 1,
   "metadata": {},
   "outputs": [
    {
     "name": "stdout",
     "output_type": "stream",
     "text": [
      "vankkam, hindi thriyathu po da!!\n",
      "csk on fire\n",
      "\n",
      "csk on fire\n"
     ]
    }
   ],
   "source": [
    "with open(\"jaya.txt\",\"r\") as file:\n",
    "    data = file.read()\n",
    "    print(data)"
   ]
  },
  {
   "cell_type": "code",
   "execution_count": null,
   "metadata": {},
   "outputs": [],
   "source": [
    "import os\n",
    "print (system)"
   ]
  }
 ],
 "metadata": {
  "kernelspec": {
   "display_name": "Python 3",
   "language": "python",
   "name": "python3"
  },
  "language_info": {
   "codemirror_mode": {
    "name": "ipython",
    "version": 3
   },
   "file_extension": ".py",
   "mimetype": "text/x-python",
   "name": "python",
   "nbconvert_exporter": "python",
   "pygments_lexer": "ipython3",
   "version": "3.8.3"
  }
 },
 "nbformat": 4,
 "nbformat_minor": 4
}
