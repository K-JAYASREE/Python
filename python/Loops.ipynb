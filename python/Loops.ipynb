{
 "cells": [
  {
   "cell_type": "markdown",
   "metadata": {},
   "source": [
    "# LOOPS\n",
    "\n",
    "It is used for doing some kinds of repetative tasks\n",
    "\n",
    "- for loop\n",
    "- while loop"
   ]
  },
  {
   "cell_type": "markdown",
   "metadata": {},
   "source": [
    "# syntax for loop\n",
    "\n",
    "\n",
    "for element in objectuwanttoitterate:\n",
    "    code1\n",
    "    code2\n",
    "\n",
    "what all object you can iterate?\n",
    "- list\n",
    "- string\n",
    "- tuple\n",
    "- dict\n",
    "- set"
   ]
  },
  {
   "cell_type": "code",
   "execution_count": 1,
   "metadata": {},
   "outputs": [],
   "source": [
    "jaya = \"jayasree\""
   ]
  },
  {
   "cell_type": "code",
   "execution_count": 3,
   "metadata": {},
   "outputs": [
    {
     "name": "stdout",
     "output_type": "stream",
     "text": [
      "j\n",
      "a\n",
      "y\n",
      "a\n",
      "s\n",
      "r\n",
      "e\n",
      "e\n"
     ]
    }
   ],
   "source": [
    "for element in jaya:\n",
    "    print(element)"
   ]
  },
  {
   "cell_type": "code",
   "execution_count": 9,
   "metadata": {},
   "outputs": [
    {
     "data": {
      "text/plain": [
       "[1,\n",
       " 2,\n",
       " 3,\n",
       " 4,\n",
       " 5,\n",
       " 6,\n",
       " 7,\n",
       " 8,\n",
       " 9,\n",
       " 10,\n",
       " 11,\n",
       " 12,\n",
       " 13,\n",
       " 14,\n",
       " 15,\n",
       " 16,\n",
       " 17,\n",
       " 18,\n",
       " 19,\n",
       " 20,\n",
       " 21,\n",
       " 22,\n",
       " 23,\n",
       " 24,\n",
       " 25,\n",
       " 26,\n",
       " 27,\n",
       " 28,\n",
       " 29,\n",
       " 30,\n",
       " 31,\n",
       " 32,\n",
       " 33,\n",
       " 34,\n",
       " 35,\n",
       " 36,\n",
       " 37,\n",
       " 38,\n",
       " 39,\n",
       " 40,\n",
       " 41,\n",
       " 42,\n",
       " 43,\n",
       " 44,\n",
       " 45,\n",
       " 46,\n",
       " 47,\n",
       " 48,\n",
       " 49,\n",
       " 50,\n",
       " 51,\n",
       " 52,\n",
       " 53,\n",
       " 54,\n",
       " 55,\n",
       " 56,\n",
       " 57,\n",
       " 58,\n",
       " 59,\n",
       " 60,\n",
       " 61,\n",
       " 62,\n",
       " 63,\n",
       " 64,\n",
       " 65,\n",
       " 66,\n",
       " 67,\n",
       " 68,\n",
       " 69,\n",
       " 70,\n",
       " 71,\n",
       " 72,\n",
       " 73,\n",
       " 74,\n",
       " 75,\n",
       " 76,\n",
       " 77,\n",
       " 78,\n",
       " 79,\n",
       " 80,\n",
       " 81,\n",
       " 82,\n",
       " 83,\n",
       " 84,\n",
       " 85,\n",
       " 86,\n",
       " 87,\n",
       " 88,\n",
       " 89,\n",
       " 90,\n",
       " 91,\n",
       " 92,\n",
       " 93,\n",
       " 94,\n",
       " 95,\n",
       " 96,\n",
       " 97,\n",
       " 98,\n",
       " 99,\n",
       " 100]"
      ]
     },
     "execution_count": 9,
     "metadata": {},
     "output_type": "execute_result"
    }
   ],
   "source": [
    "# Range is by default function where it can be ranged by numbers\n",
    "\n",
    "lst = list(range(1,101))\n",
    "lst"
   ]
  },
  {
   "cell_type": "code",
   "execution_count": 15,
   "metadata": {},
   "outputs": [
    {
     "name": "stdout",
     "output_type": "stream",
     "text": [
      "2 even number\n",
      "4 even number\n",
      "6 even number\n",
      "8 even number\n",
      "10 even number\n",
      "12 even number\n",
      "14 even number\n",
      "16 even number\n",
      "18 even number\n",
      "20 even number\n",
      "22 even number\n",
      "24 even number\n",
      "26 even number\n",
      "28 even number\n",
      "30 even number\n",
      "32 even number\n",
      "34 even number\n",
      "36 even number\n",
      "38 even number\n",
      "40 even number\n",
      "42 even number\n",
      "44 even number\n",
      "46 even number\n",
      "48 even number\n",
      "50 even number\n",
      "52 even number\n",
      "54 even number\n",
      "56 even number\n",
      "58 even number\n",
      "60 even number\n",
      "62 even number\n",
      "64 even number\n",
      "66 even number\n",
      "68 even number\n",
      "70 even number\n",
      "72 even number\n",
      "74 even number\n",
      "76 even number\n",
      "78 even number\n",
      "80 even number\n",
      "82 even number\n",
      "84 even number\n",
      "86 even number\n",
      "88 even number\n",
      "90 even number\n",
      "92 even number\n",
      "94 even number\n",
      "96 even number\n",
      "98 even number\n",
      "100 even number\n"
     ]
    }
   ],
   "source": [
    "# Even umber\n",
    "\n",
    "for i in lst:\n",
    "    if i%2 == 0:\n",
    "        print(i,\"even number\")"
   ]
  },
  {
   "cell_type": "markdown",
   "metadata": {},
   "source": [
    "# while loop\n",
    "\n",
    "- when u dont have any measurable end for any repitative tasks"
   ]
  },
  {
   "cell_type": "markdown",
   "metadata": {},
   "source": [
    "# Syntax\n",
    "\n",
    "while condition:\n",
    "    codeBlock\n",
    "    codeBlock"
   ]
  },
  {
   "cell_type": "code",
   "execution_count": 17,
   "metadata": {},
   "outputs": [
    {
     "name": "stdout",
     "output_type": "stream",
     "text": [
      "enter your password Sree\n",
      "enter your password Jaya\n",
      "password accepted,you can go ahead \n"
     ]
    }
   ],
   "source": [
    "password =\" \"\n",
    "while password != \"Jaya\":\n",
    "    password = input(\"enter your password \")\n",
    "else:\n",
    "    print(\"password accepted,you can go ahead \")"
   ]
  },
  {
   "cell_type": "code",
   "execution_count": 1,
   "metadata": {},
   "outputs": [
    {
     "name": "stdout",
     "output_type": "stream",
     "text": [
      "inside else\n"
     ]
    }
   ],
   "source": [
    "x=0\n",
    "if(x == 1):\n",
    "    if(x == 3):\n",
    "        print (\"Inside if\")\n",
    "    else:\n",
    "        print (\"inside else if\")\n",
    "else:\n",
    "    print(\"inside else\")"
   ]
  },
  {
   "cell_type": "code",
   "execution_count": 2,
   "metadata": {},
   "outputs": [
    {
     "name": "stdout",
     "output_type": "stream",
     "text": [
      "the valeis : 6\n"
     ]
    }
   ],
   "source": [
    "x=9\n",
    "y=2\n",
    "z=6\n",
    "a=x&y|z\n",
    "print(\"the valeis :\",a)"
   ]
  },
  {
   "cell_type": "code",
   "execution_count": 3,
   "metadata": {},
   "outputs": [
    {
     "name": "stdout",
     "output_type": "stream",
     "text": [
      "the valus is : 20\n"
     ]
    }
   ],
   "source": [
    "y=5\n",
    "z=y+(y+10)\n",
    "print(\"the valus is :\",z)"
   ]
  }
 ],
 "metadata": {
  "kernelspec": {
   "display_name": "Python 3",
   "language": "python",
   "name": "python3"
  },
  "language_info": {
   "codemirror_mode": {
    "name": "ipython",
    "version": 3
   },
   "file_extension": ".py",
   "mimetype": "text/x-python",
   "name": "python",
   "nbconvert_exporter": "python",
   "pygments_lexer": "ipython3",
   "version": "3.8.3"
  }
 },
 "nbformat": 4,
 "nbformat_minor": 4
}
